{
  "cells": [
    {
      "cell_type": "markdown",
      "metadata": {
        "id": "FNrUa61kh3vm"
      },
      "source": [
        "Installing the PRAW library"
      ]
    },
    {
      "cell_type": "code",
      "execution_count": 1,
      "metadata": {
        "id": "M2fKROcHhcXZ",
        "colab": {
          "base_uri": "https://localhost:8080/"
        },
        "outputId": "7422bf3a-c066-44cf-dfdb-11e2055afcb5"
      },
      "outputs": [
        {
          "output_type": "stream",
          "name": "stdout",
          "text": [
            "\u001b[2K   \u001b[90m━━━━━━━━━━━━━━━━━━━━━━━━━━━━━━━━━━━━━━━━\u001b[0m \u001b[32m189.3/189.3 kB\u001b[0m \u001b[31m4.8 MB/s\u001b[0m eta \u001b[36m0:00:00\u001b[0m\n",
            "\u001b[2K   \u001b[90m━━━━━━━━━━━━━━━━━━━━━━━━━━━━━━━━━━━━━━━━\u001b[0m \u001b[32m363.4/363.4 MB\u001b[0m \u001b[31m1.4 MB/s\u001b[0m eta \u001b[36m0:00:00\u001b[0m\n",
            "\u001b[2K   \u001b[90m━━━━━━━━━━━━━━━━━━━━━━━━━━━━━━━━━━━━━━━━\u001b[0m \u001b[32m13.8/13.8 MB\u001b[0m \u001b[31m37.7 MB/s\u001b[0m eta \u001b[36m0:00:00\u001b[0m\n",
            "\u001b[2K   \u001b[90m━━━━━━━━━━━━━━━━━━━━━━━━━━━━━━━━━━━━━━━━\u001b[0m \u001b[32m24.6/24.6 MB\u001b[0m \u001b[31m25.2 MB/s\u001b[0m eta \u001b[36m0:00:00\u001b[0m\n",
            "\u001b[2K   \u001b[90m━━━━━━━━━━━━━━━━━━━━━━━━━━━━━━━━━━━━━━━━\u001b[0m \u001b[32m883.7/883.7 kB\u001b[0m \u001b[31m27.7 MB/s\u001b[0m eta \u001b[36m0:00:00\u001b[0m\n",
            "\u001b[2K   \u001b[90m━━━━━━━━━━━━━━━━━━━━━━━━━━━━━━━━━━━━━━━━\u001b[0m \u001b[32m664.8/664.8 MB\u001b[0m \u001b[31m1.5 MB/s\u001b[0m eta \u001b[36m0:00:00\u001b[0m\n",
            "\u001b[2K   \u001b[90m━━━━━━━━━━━━━━━━━━━━━━━━━━━━━━━━━━━━━━━━\u001b[0m \u001b[32m211.5/211.5 MB\u001b[0m \u001b[31m5.1 MB/s\u001b[0m eta \u001b[36m0:00:00\u001b[0m\n",
            "\u001b[2K   \u001b[90m━━━━━━━━━━━━━━━━━━━━━━━━━━━━━━━━━━━━━━━━\u001b[0m \u001b[32m56.3/56.3 MB\u001b[0m \u001b[31m10.7 MB/s\u001b[0m eta \u001b[36m0:00:00\u001b[0m\n",
            "\u001b[2K   \u001b[90m━━━━━━━━━━━━━━━━━━━━━━━━━━━━━━━━━━━━━━━━\u001b[0m \u001b[32m127.9/127.9 MB\u001b[0m \u001b[31m7.1 MB/s\u001b[0m eta \u001b[36m0:00:00\u001b[0m\n",
            "\u001b[2K   \u001b[90m━━━━━━━━━━━━━━━━━━━━━━━━━━━━━━━━━━━━━━━━\u001b[0m \u001b[32m207.5/207.5 MB\u001b[0m \u001b[31m7.6 MB/s\u001b[0m eta \u001b[36m0:00:00\u001b[0m\n",
            "\u001b[2K   \u001b[90m━━━━━━━━━━━━━━━━━━━━━━━━━━━━━━━━━━━━━━━━\u001b[0m \u001b[32m21.1/21.1 MB\u001b[0m \u001b[31m76.5 MB/s\u001b[0m eta \u001b[36m0:00:00\u001b[0m\n",
            "\u001b[?25h"
          ]
        }
      ],
      "source": [
        "!pip install praw transformers accelerate --quiet"
      ]
    },
    {
      "cell_type": "markdown",
      "metadata": {
        "id": "FiWR2Aesh8G6"
      },
      "source": [
        "Authenticating using PRAW"
      ]
    },
    {
      "cell_type": "code",
      "execution_count": 2,
      "metadata": {
        "id": "Il3SGf12hyon"
      },
      "outputs": [],
      "source": [
        "import praw\n",
        "\n",
        "reddit = praw.Reddit(\n",
        "    client_id='FpU5eDyJ2LUlko3OsyuvqQ',\n",
        "    client_secret='0EHBx5aGIQgjaufl0Fmfl-CtghJdyw',\n",
        "    user_agent='UserPersonaScraper by /u/monokrrome',\n",
        "    username='monokrrome',\n",
        "    password='joonjoon0.',\n",
        "    check_for_async=False\n",
        ")"
      ]
    },
    {
      "cell_type": "markdown",
      "metadata": {
        "id": "QW6M5HirihNV"
      },
      "source": [
        "Scrape a user's posts and comments"
      ]
    },
    {
      "cell_type": "code",
      "execution_count": 3,
      "metadata": {
        "id": "0xEs0bFYilL8"
      },
      "outputs": [],
      "source": [
        "def scrape_user_data(username, post_limit=20, comment_limit=20):\n",
        "    redditor = reddit.redditor(username)\n",
        "    data = {\"posts\": [], \"comments\": []}\n",
        "\n",
        "    for post in redditor.submissions.new(limit=post_limit):\n",
        "        data[\"posts\"].append({\n",
        "            \"title\": post.title,\n",
        "            \"text\": post.selftext,\n",
        "            \"url\": post.url,\n",
        "            \"subreddit\": str(post.subreddit)\n",
        "        })\n",
        "\n",
        "    for comment in redditor.comments.new(limit=comment_limit):\n",
        "        data[\"comments\"].append({\n",
        "            \"text\": comment.body,\n",
        "            \"url\": f\"https://www.reddit.com{comment.permalink}\",\n",
        "            \"subreddit\": str(comment.subreddit)\n",
        "        })\n",
        "\n",
        "    return data"
      ]
    },
    {
      "cell_type": "markdown",
      "metadata": {
        "id": "QZXa0iuafpZX"
      },
      "source": [
        "Format data into prompt"
      ]
    },
    {
      "cell_type": "code",
      "execution_count": 4,
      "metadata": {
        "id": "WIU2ZaUlfo13"
      },
      "outputs": [],
      "source": [
        "def format_prompt(user_data):\n",
        "    examples = []\n",
        "    for p in user_data['posts']:\n",
        "        examples.append(f\"Post: {p['title']}\\n{p['text']}\\nURL: {p['url']}\")\n",
        "    for c in user_data['comments']:\n",
        "        examples.append(f\"Comment: {c['text']}\\nURL: {c['url']}\")\n",
        "    content = \"\\n\\n\".join(examples[:10])\n",
        "    return f\"\"\"\n",
        "You are an expert in digital behavior analysis.\n",
        "Below are Reddit posts and comments from a single user.\n",
        "Generate a persona covering these traits: Interests, Tone, Values, Personality, Motivations, Frustrations, Goals, and Needs.\n",
        "For each trait, cite the post or comment that supports your conclusion.\n",
        "\n",
        "{content}\n",
        "\n",
        "---Output Format---\n",
        "User Persona:\n",
        "- Interests: ... [Source: \"Comment/Post...\"]\n",
        "- Tone: ...\n",
        "- Values: ...\n",
        "- Personality: ...\n",
        "- Behavior: ...\n",
        "- Frustrations: ...\n",
        "- Motivations: ...\n",
        "- Goals: ...\n",
        "- Needs: ...\n",
        "\"\"\""
      ]
    },
    {
      "cell_type": "markdown",
      "metadata": {
        "id": "YIzpGO65ftZf"
      },
      "source": [
        "Load openchat/openchat-3.5-0106 Model"
      ]
    },
    {
      "cell_type": "code",
      "source": [
        "from transformers import AutoTokenizer, AutoModelForCausalLM, pipeline\n",
        "\n",
        "tokenizer = AutoTokenizer.from_pretrained(\"openchat/openchat-3.5-0106\")\n",
        "model = AutoModelForCausalLM.from_pretrained(\"openchat/openchat-3.5-0106\", device_map=\"auto\")\n",
        "llm = pipeline(\"text-generation\", model=model, tokenizer=tokenizer)"
      ],
      "metadata": {
        "id": "666qKypqeb3J"
      },
      "execution_count": null,
      "outputs": []
    },
    {
      "cell_type": "markdown",
      "metadata": {
        "id": "aH_gpInmftK2"
      },
      "source": [
        "Generate Persona"
      ]
    },
    {
      "cell_type": "code",
      "execution_count": null,
      "metadata": {
        "id": "RUBbhggmgZ1C"
      },
      "outputs": [],
      "source": [
        "def generate_persona(prompt):\n",
        "    output = llm(prompt, max_new_tokens=1024, temperature=0.7)\n",
        "    full_text = output[0][\"generated_text\"]\n",
        "    return full_text[len(prompt):].strip()"
      ]
    },
    {
      "cell_type": "markdown",
      "metadata": {
        "id": "lrLa3CR-gef7"
      },
      "source": [
        "Main Execution"
      ]
    },
    {
      "cell_type": "code",
      "execution_count": null,
      "metadata": {
        "id": "U4N-dV26gi0H"
      },
      "outputs": [],
      "source": [
        "username = \"kojied\"  # or any Reddit username\n",
        "user_data = scrape_user_data(username)\n",
        "prompt = format_prompt(user_data)\n",
        "persona = generate_persona(prompt)"
      ]
    },
    {
      "cell_type": "markdown",
      "metadata": {
        "id": "ecHrLg0jgt_o"
      },
      "source": [
        "Save Output"
      ]
    },
    {
      "cell_type": "code",
      "execution_count": null,
      "metadata": {
        "id": "KxBqygFhgvzU"
      },
      "outputs": [],
      "source": [
        "with open(f\"{username}_persona.txt\", \"w\") as f:\n",
        "    f.write(persona)\n",
        "\n",
        "print(\"Persona saved as\", f\"{username}_persona.txt\")\n",
        "print(\"\\n Generated Persona:\\n\")\n",
        "print(persona)"
      ]
    }
  ],
  "metadata": {
    "colab": {
      "provenance": []
    },
    "kernelspec": {
      "display_name": "Python 3",
      "name": "python3"
    },
    "language_info": {
      "name": "python"
    }
  },
  "nbformat": 4,
  "nbformat_minor": 0
}